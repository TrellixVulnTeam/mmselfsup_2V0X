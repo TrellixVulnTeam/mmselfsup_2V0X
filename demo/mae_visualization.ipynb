{
 "cells": [
  {
   "cell_type": "markdown",
   "metadata": {},
   "source": [
    "Copyright (c) OpenMMLab. All rights reserved.\n",
    "\n",
    "Copyright (c) Meta Platforms, Inc. and affiliates.\n",
    "\n",
    "Modified from https://colab.research.google.com/github/facebookresearch/mae/blob/main/demo/mae_visualize.ipynb\n",
    "\n",
    "## Masked Autoencoders: Visualization Demo\n",
    "\n",
    "This is a visualization demo using our pre-trained MAE models. No GPU is needed."
   ]
  },
  {
   "cell_type": "markdown",
   "metadata": {},
   "source": [
    "### Prepare\n",
    "Check environment. Install packages if in Colab."
   ]
  },
  {
   "cell_type": "code",
   "execution_count": null,
   "metadata": {},
   "outputs": [],
   "source": []
  },
  {
   "cell_type": "code",
   "execution_count": 1,
   "metadata": {},
   "outputs": [],
   "source": [
    "import sys\n",
    "import os\n",
    "import requests\n",
    "\n",
    "import torch\n",
    "import numpy as np\n",
    "\n",
    "import matplotlib.pyplot as plt\n",
    "from PIL import Image\n",
    "\n",
    "from mmselfsup.models import build_algorithm\n",
    "\n",
    "# check whether run in Colab\n",
    "if 'google.colab' in sys.modules:\n",
    "    print('Running in Colab.')\n",
    "    !pip3 install openmim\n",
    "    !pip install -U openmim\n",
    "    !mim install 'mmengine==0.1.0' 'mmcv>=2.0.0rc1'\n",
    "\n",
    "    !git clone https://github.com/open-mmlab/mmselfsup.git\n",
    "    %cd mmselfsup/\n",
    "    !git checkout dev-1.x\n",
    "    !pip install -e .\n",
    "\n",
    "    sys.path.append('./mmselfsup')\n",
    "    %cd demo\n",
    "else:\n",
    "    sys.path.append('..')"
   ]
  },
  {
   "cell_type": "markdown",
   "metadata": {},
   "source": [
    "### Define utils"
   ]
  },
  {
   "cell_type": "code",
   "execution_count": 20,
   "metadata": {},
   "outputs": [],
   "source": [
    "# define the utils\n",
    "\n",
    "imagenet_mean = np.array([0.485, 0.456, 0.406])\n",
    "imagenet_std = np.array([0.229, 0.224, 0.225])\n",
    "\n",
    "def show_image(image, title=''):\n",
    "    # image is [H, W, 3]\n",
    "    assert image.shape[2] == 3\n",
    "    image = torch.clip((image * imagenet_std + imagenet_mean) * 255, 0, 255).int()\n",
    "    plt.imshow(image)\n",
    "    plt.title(title, fontsize=16)\n",
    "    plt.axis('off')\n",
    "    return\n",
    "\n",
    "\n",
    "def show_images(x, im_masked, y, im_paste):\n",
    "    # make the plt figure larger\n",
    "    # plt.rcParams['figure.figsize'] = [24, 6]\n",
    "    plt.rcParams['figure.figsize'] = [12, 3]\n",
    "\n",
    "    plt.subplot(1, 4, 1)\n",
    "    show_image(x, \"original\")\n",
    "\n",
    "    plt.subplot(1, 4, 2)\n",
    "    show_image(im_masked, \"masked\")\n",
    "\n",
    "    plt.subplot(1, 4, 3)\n",
    "    show_image(y, \"reconstruction\")\n",
    "\n",
    "    plt.subplot(1, 4, 4)\n",
    "    show_image(im_paste, \"reconstruction + visible\")\n",
    "\n",
    "    plt.show()\n",
    "\n",
    "\n",
    "def post_process(x, y, mask):\n",
    "    x = torch.einsum('nchw->nhwc', x.cpu())\n",
    "    # masked image\n",
    "    im_masked = x * (1 - mask)\n",
    "    # MAE reconstruction pasted with visible patches\n",
    "    im_paste = x * (1 - mask) + y * mask\n",
    "    return x[0], im_masked[0], y[0], im_paste[0]"
   ]
  },
  {
   "cell_type": "markdown",
   "metadata": {},
   "source": [
    "### Load an image"
   ]
  },
  {
   "cell_type": "code",
   "execution_count": null,
   "metadata": {},
   "outputs": [],
   "source": [
    "# load an image\n",
    "img_url = 'https://download.openmmlab.com/mmselfsup/mae/fox.jpg'\n",
    "img_pil = Image.open(requests.get(img_url, stream=True).raw)\n",
    "img = img_pil.resize((224, 224))\n",
    "img = np.array(img) / 255.\n",
    "\n",
    "assert img.shape == (224, 224, 3)\n",
    "\n",
    "# normalize by ImageNet mean and std\n",
    "img = img - imagenet_mean\n",
    "img = img / imagenet_std\n",
    "\n",
    "plt.rcParams['figure.figsize'] = [5, 5]\n",
    "show_image(torch.tensor(img))"
   ]
  },
  {
   "cell_type": "markdown",
   "metadata": {},
   "source": [
    "### Load a pre-trained MAE model"
   ]
  },
  {
   "cell_type": "code",
   "execution_count": 28,
   "metadata": {},
   "outputs": [
    {
     "name": "stdout",
     "output_type": "stream",
     "text": [
      "Overwriting ../configs/selfsup/mae/mae_visualization.py\n"
     ]
    }
   ],
   "source": [
    "%%writefile ../configs/selfsup/mae/mae_visualization.py\n",
    "model = dict(\n",
    "    type='MAE',\n",
    "    data_preprocessor=dict(\n",
    "        mean=[123.675, 116.28, 103.53],\n",
    "        std=[58.395, 57.12, 57.375],\n",
    "        bgr_to_rgb=True),\n",
    "    backbone=dict(type='MAEViT', arch='l', patch_size=16, mask_ratio=0.75),\n",
    "    neck=dict(\n",
    "        type='MAEPretrainDecoder',\n",
    "        patch_size=16,\n",
    "        in_chans=3,\n",
    "        embed_dim=1024,\n",
    "        decoder_embed_dim=512,\n",
    "        decoder_depth=8,\n",
    "        decoder_num_heads=16,\n",
    "        mlp_ratio=4.,\n",
    "    ),\n",
    "    head=dict(\n",
    "        type='MAEPretrainHead',\n",
    "        norm_pix=True,\n",
    "        patch_size=16,\n",
    "        loss=dict(type='MAEReconstructionLoss')),\n",
    "    init_cfg=[\n",
    "        dict(type='Xavier', distribution='uniform', layer='Linear'),\n",
    "        dict(type='Constant', layer='LayerNorm', val=1.0, bias=0.0)\n",
    "    ])\n",
    "\n",
    "file_client_args = dict(backend='disk')\n",
    "\n",
    "# dataset summary\n",
    "test_dataloader = dict(\n",
    "    dataset=dict(\n",
    "        pipeline=[\n",
    "            dict(type='LoadImageFromFile', file_client_args=file_client_args),\n",
    "            dict(type='Resize', scale=(224, 224)),\n",
    "            dict(type='PackSelfSupInputs', meta_keys=['img_path'])\n",
    "    ]))"
   ]
  },
  {
   "cell_type": "code",
   "execution_count": 5,
   "metadata": {},
   "outputs": [],
   "source": [
    "# This is an MAE model trained with pixels as targets for visualization (ViT-large, training mask ratio=0.75)\n",
    "\n",
    "# download checkpoint if not exist\n",
    "# This ckpt is converted from https://dl.fbaipublicfiles.com/mae/visualize/mae_visualize_vit_large.pth\n",
    "# !wget -nc https://download.openmmlab.com/mmselfsup/mae/mae_visualize_vit_large.pth"
   ]
  },
  {
   "cell_type": "code",
   "execution_count": 23,
   "metadata": {},
   "outputs": [
    {
     "name": "stdout",
     "output_type": "stream",
     "text": [
      "local loads checkpoint from path: mae_visualize_vit_large.pth\n",
      "Model loaded.\n"
     ]
    }
   ],
   "source": [
    "from mmselfsup.apis import init_model\n",
    "ckpt_path = \"mae_visualize_vit_large.pth\"\n",
    "model = init_model('../configs/selfsup/mae/mae_visualization.py', ckpt_path, device='cpu')\n",
    "print('Model loaded.')"
   ]
  },
  {
   "cell_type": "markdown",
   "metadata": {},
   "source": [
    "### Run MAE on the image"
   ]
  },
  {
   "cell_type": "code",
   "execution_count": 25,
   "metadata": {},
   "outputs": [
    {
     "name": "stderr",
     "output_type": "stream",
     "text": [
      "3241.10s - pydevd: Sending message related to process being replaced timed-out after 5 seconds\n"
     ]
    },
    {
     "name": "stdout",
     "output_type": "stream",
     "text": [
      "--2022-09-02 17:04:54--  https://download.openmmlab.com/mmselfsup/mae/fox.jpg\n",
      "正在解析主机 download.openmmlab.com (download.openmmlab.com)... 101.133.111.186\n",
      "正在连接 download.openmmlab.com (download.openmmlab.com)|101.133.111.186|:443... 已连接。\n",
      "已发出 HTTP 请求，正在等待回应... 200 OK\n",
      "长度： 60133 (59K) [image/jpeg]\n",
      "正在保存至: “fox.jpg”\n",
      "\n",
      "fox.jpg             100%[===================>]  58.72K  --.-KB/s    用时 0.06s   \n",
      "\n",
      "2022-09-02 17:04:54 (949 KB/s) - 已保存 “fox.jpg” [60133/60133])\n",
      "\n"
     ]
    }
   ],
   "source": [
    "!wget -nc 'https://download.openmmlab.com/mmselfsup/mae/fox.jpg'"
   ]
  },
  {
   "cell_type": "code",
   "execution_count": null,
   "metadata": {},
   "outputs": [],
   "source": [
    "# make random mask reproducible (comment out to make it change)\n",
    "from mmselfsup.utils import register_all_modules\n",
    "register_all_modules()\n",
    "torch.manual_seed(2)\n",
    "print('MAE with pixel reconstruction:')\n",
    "\n",
    "from mmselfsup.apis import inference_model\n",
    "\n",
    "img = 'fox.jpg'\n",
    "data, (mask, pred) = inference_model(model, img)\n",
    "\n",
    "from mmselfsup.models.utils import SelfSupDataPreprocessor\n",
    "data_preprocessor = SelfSupDataPreprocessor(\n",
    "    mean=[123.675, 116.28, 103.53],\n",
    "    std=[58.395, 57.12, 57.375],\n",
    "    bgr_to_rgb=True)\n",
    "img, _ = data_preprocessor(data, False)\n",
    "\n",
    "x, im_masked, y, im_paste = post_process(img[0], pred, mask)\n",
    "show_images(x, im_masked, y, im_paste)"
   ]
  },
  {
   "cell_type": "code",
   "execution_count": null,
   "metadata": {},
   "outputs": [],
   "source": []
  },
  {
   "cell_type": "code",
   "execution_count": null,
   "metadata": {},
   "outputs": [],
   "source": []
  }
 ],
 "metadata": {
  "kernelspec": {
   "display_name": "Python 3.7.13 ('mmselfsup2.0')",
   "language": "python",
   "name": "python3"
  },
  "language_info": {
   "codemirror_mode": {
    "name": "ipython",
    "version": 3
   },
   "file_extension": ".py",
   "mimetype": "text/x-python",
   "name": "python",
   "nbconvert_exporter": "python",
   "pygments_lexer": "ipython3",
   "version": "3.7.13"
  },
  "vscode": {
   "interpreter": {
    "hash": "1742319693997e01e5942276ccf039297cd0a474ab9a20f711b7fa536eca5436"
   }
  }
 },
 "nbformat": 4,
 "nbformat_minor": 2
}
